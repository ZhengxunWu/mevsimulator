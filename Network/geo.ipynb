{
 "cells": [
  {
   "cell_type": "code",
   "execution_count": 47,
   "metadata": {},
   "outputs": [],
   "source": [
    "import random\n",
    "import networkx as nx\n",
    "import math\n",
    "import numpy as np\n",
    "import pyvista as pv\n",
    "from pyvista import examples"
   ]
  },
  {
   "cell_type": "code",
   "execution_count": 48,
   "metadata": {},
   "outputs": [],
   "source": [
    "earth = examples.download_topo_global().triangulate().decimate(0.98)\n",
    "land = examples.download_topo_land().triangulate().decimate(0.98)"
   ]
  },
  {
   "cell_type": "code",
   "execution_count": 49,
   "metadata": {},
   "outputs": [],
   "source": [
    "class Transaction:\n",
    "    \"\"\" A transaction on the Ethereum network \"\"\"\n",
    "    def __init__(self, sender,fee, timestamp = 0,dataset = None):\n",
    "        self.sender = sender\n",
    "        self.fee = fee\n",
    "        self.metrics = {}\n",
    "        self.send_timestamp = timestamp\n",
    "        if dataset!= None:\n",
    "            ids = np.random.randint(low=0, high=dataset.n_points-1,size=n_nodes)\n",
    "            self.position = earth.find_closest_point(dataset.points[ids])"
   ]
  },
  {
   "cell_type": "code",
   "execution_count": 50,
   "metadata": {},
   "outputs": [],
   "source": [
    "def generate_points(n_nodes):\n",
    "    \"\"\"A helper to make a 3D NumPy array of points (n_points by 3)\"\"\"\n",
    "    dataset = land\n",
    "    ids = np.random.randint(low=0, high=dataset.n_points-1,size=n_nodes)\n",
    "    return dataset.points[ids]\n",
    "\n",
    "def lenght_of_path(distance,node_path):\n",
    "    dist  = 0\n",
    "    for i in range(0,len(node_path)-1):\n",
    "        dist += distance[node_path[i]][node_path[i+1]]\n",
    "    return dist"
   ]
  },
  {
   "cell_type": "code",
   "execution_count": 51,
   "metadata": {},
   "outputs": [],
   "source": [
    "nodes_sphere = []\n",
    "position = generate_points(12)\n",
    "for node in position:\n",
    "    nodes_sphere.append(earth.find_closest_point(node))"
   ]
  },
  {
   "cell_type": "code",
   "execution_count": 53,
   "metadata": {},
   "outputs": [],
   "source": [
    "def network_nodes(n_peers,nodes_sphere):\n",
    "    peers = {}\n",
    "    distance = {}\n",
    "    for node in nodes_sphere:\n",
    "        distance[node] = {}\n",
    "    for node in nodes_sphere:\n",
    "        set_nodes = [element for element in nodes_sphere if element!=node]\n",
    "        distance_node = {peer:earth.geodesic_distance(node,peer) for peer in set_nodes}\n",
    "        ordered = sorted(set_nodes, key=lambda peer:distance_node[peer])\n",
    "        peers[node] = ordered[:n_peers]\n",
    "        for peer in peers[node]:\n",
    "            distance[node][peer] = distance_node[peer]\n",
    "            distance[peer][node] = distance_node[peer]\n",
    "    G = nx.Graph()\n",
    "    for node in nodes_sphere:\n",
    "        for node2 in peers[node]:\n",
    "            G.add_edge(node,node2,weight = distance[node][node2])\n",
    "    for node in G.nodes():\n",
    "        for node2 in G.nodes:\n",
    "            distance[node][node2] = lenght_of_path(distance,nx.shortest_path(G,node,node2))\n",
    "    return peers,distance, G"
   ]
  },
  {
   "cell_type": "code",
   "execution_count": 54,
   "metadata": {},
   "outputs": [],
   "source": [
    "peers, distance, graph = network_nodes(n_peers, nodes_sphere)"
   ]
  },
  {
   "cell_type": "code",
   "execution_count": null,
   "metadata": {},
   "outputs": [],
   "source": [
    "p = pv.Plotter(notebook=0)\n",
    "p.add_point_labels(position, labels = range(0,12),font_size=20)\n",
    "p.add_mesh(position, line_width=1000, color=\"black\", label=\"Geodesic Path\")\n",
    "for node in peers.keys():\n",
    "    for peer in peers:\n",
    "        p.add_mesh(earth.geodesic(node,peer),line_width=4,color='blue')\n",
    "p.add_mesh(land,show_edges=False)\n",
    "#p.add_mesh(earth)\n",
    "p.add_legend()\n",
    "p.camera_position = [(3.5839785524183934, 2.3915238111304924, 1.3993738227478327),\n",
    " (-0.06842917033182638, 0.15467201157962263, -0.07331693636555875),\n",
    " (-0.34851770951584765, -0.04724188391065845, 0.9361108965066047)]\n",
    "\n",
    "p.show()"
   ]
  },
  {
   "cell_type": "code",
   "execution_count": null,
   "metadata": {},
   "outputs": [],
   "source": []
  },
  {
   "cell_type": "code",
   "execution_count": null,
   "metadata": {},
   "outputs": [],
   "source": []
  }
 ],
 "metadata": {
  "kernelspec": {
   "display_name": "Python 3",
   "language": "python",
   "name": "python3"
  },
  "language_info": {
   "codemirror_mode": {
    "name": "ipython",
    "version": 3
   },
   "file_extension": ".py",
   "mimetype": "text/x-python",
   "name": "python",
   "nbconvert_exporter": "python",
   "pygments_lexer": "ipython3",
   "version": "3.6.9"
  }
 },
 "nbformat": 4,
 "nbformat_minor": 4
}
