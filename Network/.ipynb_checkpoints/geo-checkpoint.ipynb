{
 "cells": [
  {
   "cell_type": "code",
   "execution_count": 1,
   "metadata": {},
   "outputs": [],
   "source": [
    "import random\n",
    "import networkx as nx\n",
    "import math\n",
    "import numpy as np\n",
    "import pyvista as pv\n",
    "from pyvista import examples"
   ]
  },
  {
   "cell_type": "code",
   "execution_count": null,
   "metadata": {},
   "outputs": [],
   "source": [
    "earth = examples.download_topo_global().triangulate().decimate(0.98)\n",
    "land = examples.download_topo_land().triangulate().decimate(0.98)"
   ]
  },
  {
   "cell_type": "code",
   "execution_count": null,
   "metadata": {},
   "outputs": [],
   "source": [
    "def generate_points(n_nodes):\n",
    "    \"\"\"A helper to make a 3D NumPy array of points (n_points by 3)\"\"\"\n",
    "    dataset = land\n",
    "    ids = np.random.randint(low=0, high=dataset.n_points-1,size=n_nodes)\n",
    "    return dataset.points[ids]"
   ]
  },
  {
   "cell_type": "code",
   "execution_count": null,
   "metadata": {},
   "outputs": [],
   "source": [
    "position = generate_points(12)"
   ]
  },
  {
   "cell_type": "code",
   "execution_count": null,
   "metadata": {},
   "outputs": [],
   "source": [
    "nodes_sphere = []\n",
    "for node in position:\n",
    "    nodes_sphere.append(earth.find_closest_point(node))"
   ]
  },
  {
   "cell_type": "code",
   "execution_count": null,
   "metadata": {},
   "outputs": [],
   "source": [
    "peers = {}\n",
    "n_peers = 3\n",
    "for node in nodes_sphere:\n",
    "    set_nodes = [element for element in nodes_sphere if element!=node]\n",
    "    ordered = sorted(set_nodes, key=lambda peer:earth.geodesic_distance(node,peer))\n",
    "    peers[node] = ordered[:n_peers]"
   ]
  },
  {
   "cell_type": "code",
   "execution_count": null,
   "metadata": {},
   "outputs": [],
   "source": [
    "peers"
   ]
  },
  {
   "cell_type": "code",
   "execution_count": null,
   "metadata": {},
   "outputs": [],
   "source": [
    "p = pv.Plotter(notebook=0)\n",
    "p.add_mesh(position, line_width=1000, color=\"blue\", label=\"Geodesic Path\")\n",
    "for node in peers.keys():\n",
    "    for peer in peers:\n",
    "        p.add_mesh(earth.geodesic(node,peer),line_width=10,color='red')\n",
    "p.add_mesh(land, color ='brown', show_edges=True)\n",
    "p.add_mesh(earth, show_edges=False)\n",
    "p.add_legend()\n",
    "p.camera_position = [(3.5839785524183934, 2.3915238111304924, 1.3993738227478327),\n",
    " (-0.06842917033182638, 0.15467201157962263, -0.07331693636555875),\n",
    " (-0.34851770951584765, -0.04724188391065845, 0.9361108965066047)]\n",
    "\n",
    "p.show()"
   ]
  },
  {
   "cell_type": "code",
   "execution_count": null,
   "metadata": {},
   "outputs": [],
   "source": []
  },
  {
   "cell_type": "code",
   "execution_count": null,
   "metadata": {},
   "outputs": [],
   "source": []
  },
  {
   "cell_type": "code",
   "execution_count": null,
   "metadata": {},
   "outputs": [],
   "source": []
  }
 ],
 "metadata": {
  "kernelspec": {
   "display_name": "Python 3",
   "language": "python",
   "name": "python3"
  },
  "language_info": {
   "codemirror_mode": {
    "name": "ipython",
    "version": 3
   },
   "file_extension": ".py",
   "mimetype": "text/x-python",
   "name": "python",
   "nbconvert_exporter": "python",
   "pygments_lexer": "ipython3",
   "version": "3.6.9"
  }
 },
 "nbformat": 4,
 "nbformat_minor": 4
}
