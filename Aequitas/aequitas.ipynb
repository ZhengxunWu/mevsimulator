{
 "cells": [
  {
   "cell_type": "code",
   "execution_count": 1,
   "metadata": {},
   "outputs": [],
   "source": [
    "import networkx as nx\n",
    "import random\n",
    "from typing import List\n",
    "# number of nodes n\n",
    "# number of byzantine / malicious nodes f\n",
    "# gamma : order fairness parameter\n",
    "# g : granularity\n",
    "\n",
    "class Tx:\n",
    "    def __init__(self, content, timestamp):\n",
    "        self.content = content\n",
    "        self.timestamp = timestamp #Unix timestamp\n",
    "        self.bucket = None\n",
    "\n",
    "    def __str__(self):\n",
    "        return f'Transaction: {self.content} , {self.timestamp}'\n",
    "\n",
    "    def __repr__(self):\n",
    "        return f\"Tx(content='{self.content}', timestamp={self.timestamp}, bucket = {self.bucket})\"    \n",
    "\n",
    "class Vote:\n",
    "  nodeID: int\n",
    "  ordering: List[Tx]\n",
    "\n",
    "# Node 1: [a,b,c,e,d]\n",
    "# Node 2: [a,c,b,d,e]\n",
    "# Node 3: [b,a,c,e,d]\n",
    "# Node 4: [a,b,d,c,e]\n",
    "# Node 5: [a,c,b,d,e]\n",
    "\n",
    "# assume this is already sorted, i.e. an ordering\n",
    "n_tx_lists = {1: [Tx(\"a\",1326244364), Tx(\"b\",1326244365), Tx(\"c\",1326244366), Tx(\"e\",1326244367), Tx(\"d\",1326244368), Tx(\"f\",1326244369), Tx(\"g\",1326244370)],\n",
    "              2: [Tx(\"a\",1326244364), Tx(\"c\",1326244365), Tx(\"b\",1326244366), Tx(\"d\",1326244367), Tx(\"e\",1326244368), Tx(\"f\",1326244369), Tx(\"g\",1326244375)],\n",
    "              3: [Tx(\"b\",1326244364), Tx(\"a\",1326244365), Tx(\"c\",1326244366), Tx(\"e\",1326244367), Tx(\"d\",1326244368), Tx(\"f\",1326244376)],\n",
    "              4: [Tx(\"a\",1326244364), Tx(\"b\",1326244365), Tx(\"d\",1326244366), Tx(\"c\",1326244367), Tx(\"e\",1326244368)],\n",
    "              5: [Tx(\"a\",1326244364), Tx(\"c\",1326244365), Tx(\"b\",1326244366), Tx(\"d\",1326244367), Tx(\"e\",1326244368)]\n",
    "              }\n",
    "\n",
    "starting_timestamp = 1326244364\n",
    "granularity = 5\n",
    "n_granularized_tx_lists = {}\n",
    "\n",
    "def granularize(tx_ordering, starting_timestamp: int ,granularity : int) -> List[Tx]:\n",
    "  for tx in tx_ordering:\n",
    "    quotient = int((tx.timestamp - starting_timestamp)//granularity)\n",
    "    tx.bucket = quotient\n",
    "  return tx_ordering\n",
    "\n",
    "def compute_initial_set_of_edges(n_granularized_tx_lists):\n",
    "    counter_timestamp = 0\n",
    "    for each_pair in n_granularized_tx_lists:\n",
    "        each_pair.get(content)\n",
    "        # count on all pairs\n",
    "        # decide if majority\n",
    "        # if so, add edge\n",
    "        # build graph with updated edge\n",
    "        existing_graph = nx.\n",
    "    return GraphOfEdges = nx.addNewEdge(existing_graph)\n",
    "\n",
    "def complete_list_of_edges(GraphOfEdges):\n",
    "    return # dissected graph\n",
    "\n",
    "def finalized_output_graph():\n",
    "    # see .txt 44-48\n",
    "    return GraphH # a fully connected graph\n",
    "\n",
    "def aequitas():\n",
    "  for i in n_tx_lists:\n",
    "    n_granularized_tx_lists[i] = granularize(n_tx_lists.get(i), starting_timestamp, granularity)\n",
    "  print(n_granularized_tx_lists)\n",
    "  compute_initial_set_of_edges(n_granularized_tx_lists)\n",
    "  # complete_list_of_edges() # compares graph above sees if connected\n",
    "  # finalized_output_(graph, {transactions_present_in_all_lists})\n",
    "  final_list_graph = finalized_output_graph, {transactions_present_in_all_lists})\n",
    "  final_list = [] # do something with the graph to make the list\n",
    "  # return"
   ]
  },
  {
   "cell_type": "code",
   "execution_count": 2,
   "metadata": {},
   "outputs": [
    {
     "name": "stdout",
     "output_type": "stream",
     "text": [
      "{1: [Tx(content='a', timestamp=1326244364, bucket = 0), Tx(content='b', timestamp=1326244365, bucket = 0), Tx(content='c', timestamp=1326244366, bucket = 0), Tx(content='e', timestamp=1326244367, bucket = 0), Tx(content='d', timestamp=1326244368, bucket = 0), Tx(content='f', timestamp=1326244369, bucket = 1), Tx(content='g', timestamp=1326244370, bucket = 1)], 2: [Tx(content='a', timestamp=1326244364, bucket = 0), Tx(content='c', timestamp=1326244365, bucket = 0), Tx(content='b', timestamp=1326244366, bucket = 0), Tx(content='d', timestamp=1326244367, bucket = 0), Tx(content='e', timestamp=1326244368, bucket = 0), Tx(content='f', timestamp=1326244369, bucket = 1), Tx(content='g', timestamp=1326244375, bucket = 2)], 3: [Tx(content='b', timestamp=1326244364, bucket = 0), Tx(content='a', timestamp=1326244365, bucket = 0), Tx(content='c', timestamp=1326244366, bucket = 0), Tx(content='e', timestamp=1326244367, bucket = 0), Tx(content='d', timestamp=1326244368, bucket = 0), Tx(content='f', timestamp=1326244376, bucket = 2)], 4: [Tx(content='a', timestamp=1326244364, bucket = 0), Tx(content='b', timestamp=1326244365, bucket = 0), Tx(content='d', timestamp=1326244366, bucket = 0), Tx(content='c', timestamp=1326244367, bucket = 0), Tx(content='e', timestamp=1326244368, bucket = 0)], 5: [Tx(content='a', timestamp=1326244364, bucket = 0), Tx(content='c', timestamp=1326244365, bucket = 0), Tx(content='b', timestamp=1326244366, bucket = 0), Tx(content='d', timestamp=1326244367, bucket = 0), Tx(content='e', timestamp=1326244368, bucket = 0)]}\n"
     ]
    }
   ],
   "source": [
    "aequitas()"
   ]
  },
  {
   "cell_type": "code",
   "execution_count": 3,
   "metadata": {},
   "outputs": [
    {
     "data": {
      "text/plain": [
       "{1: [Tx(content='a', timestamp=1326244364, bucket = 0),\n",
       "  Tx(content='b', timestamp=1326244365, bucket = 0),\n",
       "  Tx(content='c', timestamp=1326244366, bucket = 0),\n",
       "  Tx(content='e', timestamp=1326244367, bucket = 0),\n",
       "  Tx(content='d', timestamp=1326244368, bucket = 0),\n",
       "  Tx(content='f', timestamp=1326244369, bucket = 1),\n",
       "  Tx(content='g', timestamp=1326244370, bucket = 1)],\n",
       " 2: [Tx(content='a', timestamp=1326244364, bucket = 0),\n",
       "  Tx(content='c', timestamp=1326244365, bucket = 0),\n",
       "  Tx(content='b', timestamp=1326244366, bucket = 0),\n",
       "  Tx(content='d', timestamp=1326244367, bucket = 0),\n",
       "  Tx(content='e', timestamp=1326244368, bucket = 0),\n",
       "  Tx(content='f', timestamp=1326244369, bucket = 1),\n",
       "  Tx(content='g', timestamp=1326244375, bucket = 2)],\n",
       " 3: [Tx(content='b', timestamp=1326244364, bucket = 0),\n",
       "  Tx(content='a', timestamp=1326244365, bucket = 0),\n",
       "  Tx(content='c', timestamp=1326244366, bucket = 0),\n",
       "  Tx(content='e', timestamp=1326244367, bucket = 0),\n",
       "  Tx(content='d', timestamp=1326244368, bucket = 0),\n",
       "  Tx(content='f', timestamp=1326244376, bucket = 2)],\n",
       " 4: [Tx(content='a', timestamp=1326244364, bucket = 0),\n",
       "  Tx(content='b', timestamp=1326244365, bucket = 0),\n",
       "  Tx(content='d', timestamp=1326244366, bucket = 0),\n",
       "  Tx(content='c', timestamp=1326244367, bucket = 0),\n",
       "  Tx(content='e', timestamp=1326244368, bucket = 0)],\n",
       " 5: [Tx(content='a', timestamp=1326244364, bucket = 0),\n",
       "  Tx(content='c', timestamp=1326244365, bucket = 0),\n",
       "  Tx(content='b', timestamp=1326244366, bucket = 0),\n",
       "  Tx(content='d', timestamp=1326244367, bucket = 0),\n",
       "  Tx(content='e', timestamp=1326244368, bucket = 0)]}"
      ]
     },
     "execution_count": 3,
     "metadata": {},
     "output_type": "execute_result"
    }
   ],
   "source": [
    "n_granularized_tx_lists"
   ]
  },
  {
   "cell_type": "code",
   "execution_count": null,
   "metadata": {},
   "outputs": [],
   "source": []
  }
 ],
 "metadata": {
  "kernelspec": {
   "display_name": "Python 3",
   "language": "python",
   "name": "python3"
  },
  "language_info": {
   "codemirror_mode": {
    "name": "ipython",
    "version": 3
   },
   "file_extension": ".py",
   "mimetype": "text/x-python",
   "name": "python",
   "nbconvert_exporter": "python",
   "pygments_lexer": "ipython3",
   "version": "3.7.3"
  }
 },
 "nbformat": 4,
 "nbformat_minor": 2
}
